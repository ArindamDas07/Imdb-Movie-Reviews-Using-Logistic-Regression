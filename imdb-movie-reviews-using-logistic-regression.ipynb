{
 "cells": [
  {
   "cell_type": "code",
   "execution_count": 1,
   "metadata": {
    "execution": {
     "iopub.execute_input": "2023-08-31T09:20:20.294222Z",
     "iopub.status.busy": "2023-08-31T09:20:20.293805Z",
     "iopub.status.idle": "2023-08-31T09:20:20.302475Z",
     "shell.execute_reply": "2023-08-31T09:20:20.301345Z",
     "shell.execute_reply.started": "2023-08-31T09:20:20.294190Z"
    }
   },
   "outputs": [],
   "source": [
    "### Importing libraries\n",
    "import numpy as np \n",
    "import pandas as pd \n",
    "from sklearn.pipeline import Pipeline\n",
    "from sklearn.ensemble import RandomForestClassifier\n",
    "from sklearn.linear_model import LogisticRegression\n",
    "from sklearn.naive_bayes import MultinomialNB\n",
    "from sklearn.feature_extraction.text import TfidfVectorizer\n",
    "from sklearn.metrics import confusion_matrix\n",
    "from sklearn.metrics import precision_score,accuracy_score\n",
    "from sklearn.metrics import confusion_matrix\n",
    "from matplotlib import pyplot as plt\n",
    "import seaborn as sn\n",
    "\n",
    "\n",
    "import nltk\n",
    "from nltk.corpus import stopwords\n",
    "from nltk.stem.porter import PorterStemmer\n",
    "import re"
   ]
  },
  {
   "cell_type": "code",
   "execution_count": 2,
   "metadata": {
    "execution": {
     "iopub.execute_input": "2023-08-31T09:02:25.329595Z",
     "iopub.status.busy": "2023-08-31T09:02:25.328724Z",
     "iopub.status.idle": "2023-08-31T09:02:26.154256Z",
     "shell.execute_reply": "2023-08-31T09:02:26.152418Z",
     "shell.execute_reply.started": "2023-08-31T09:02:25.329554Z"
    }
   },
   "outputs": [
    {
     "name": "stdout",
     "output_type": "stream",
     "text": [
      "(50000, 2)\n"
     ]
    },
    {
     "data": {
      "text/html": [
       "<div>\n",
       "<style scoped>\n",
       "    .dataframe tbody tr th:only-of-type {\n",
       "        vertical-align: middle;\n",
       "    }\n",
       "\n",
       "    .dataframe tbody tr th {\n",
       "        vertical-align: top;\n",
       "    }\n",
       "\n",
       "    .dataframe thead th {\n",
       "        text-align: right;\n",
       "    }\n",
       "</style>\n",
       "<table border=\"1\" class=\"dataframe\">\n",
       "  <thead>\n",
       "    <tr style=\"text-align: right;\">\n",
       "      <th></th>\n",
       "      <th>review</th>\n",
       "      <th>sentiment</th>\n",
       "    </tr>\n",
       "  </thead>\n",
       "  <tbody>\n",
       "    <tr>\n",
       "      <th>0</th>\n",
       "      <td>One of the other reviewers has mentioned that ...</td>\n",
       "      <td>positive</td>\n",
       "    </tr>\n",
       "    <tr>\n",
       "      <th>1</th>\n",
       "      <td>A wonderful little production. &lt;br /&gt;&lt;br /&gt;The...</td>\n",
       "      <td>positive</td>\n",
       "    </tr>\n",
       "    <tr>\n",
       "      <th>2</th>\n",
       "      <td>I thought this was a wonderful way to spend ti...</td>\n",
       "      <td>positive</td>\n",
       "    </tr>\n",
       "    <tr>\n",
       "      <th>3</th>\n",
       "      <td>Basically there's a family where a little boy ...</td>\n",
       "      <td>negative</td>\n",
       "    </tr>\n",
       "    <tr>\n",
       "      <th>4</th>\n",
       "      <td>Petter Mattei's \"Love in the Time of Money\" is...</td>\n",
       "      <td>positive</td>\n",
       "    </tr>\n",
       "  </tbody>\n",
       "</table>\n",
       "</div>"
      ],
      "text/plain": [
       "                                              review sentiment\n",
       "0  One of the other reviewers has mentioned that ...  positive\n",
       "1  A wonderful little production. <br /><br />The...  positive\n",
       "2  I thought this was a wonderful way to spend ti...  positive\n",
       "3  Basically there's a family where a little boy ...  negative\n",
       "4  Petter Mattei's \"Love in the Time of Money\" is...  positive"
      ]
     },
     "execution_count": 2,
     "metadata": {},
     "output_type": "execute_result"
    }
   ],
   "source": [
    "df = pd.read_csv('IMDB Dataset.csv')\n",
    "print(df.shape)\n",
    "\n",
    "df.head()"
   ]
  },
  {
   "cell_type": "code",
   "execution_count": 3,
   "metadata": {
    "execution": {
     "iopub.execute_input": "2023-08-31T09:02:30.052218Z",
     "iopub.status.busy": "2023-08-31T09:02:30.051140Z",
     "iopub.status.idle": "2023-08-31T09:02:30.112860Z",
     "shell.execute_reply": "2023-08-31T09:02:30.111520Z",
     "shell.execute_reply.started": "2023-08-31T09:02:30.052171Z"
    }
   },
   "outputs": [
    {
     "data": {
      "text/plain": [
       "review       0\n",
       "sentiment    0\n",
       "dtype: int64"
      ]
     },
     "execution_count": 3,
     "metadata": {},
     "output_type": "execute_result"
    }
   ],
   "source": [
    "df.isnull().sum()"
   ]
  },
  {
   "cell_type": "code",
   "execution_count": 4,
   "metadata": {
    "execution": {
     "iopub.execute_input": "2023-08-31T09:02:32.235051Z",
     "iopub.status.busy": "2023-08-31T09:02:32.234592Z",
     "iopub.status.idle": "2023-08-31T09:02:32.509107Z",
     "shell.execute_reply": "2023-08-31T09:02:32.507819Z",
     "shell.execute_reply.started": "2023-08-31T09:02:32.235017Z"
    }
   },
   "outputs": [
    {
     "name": "stdout",
     "output_type": "stream",
     "text": [
      "sentiment\n",
      "negative    25000\n",
      "positive    25000\n",
      "dtype: int64\n"
     ]
    },
    {
     "data": {
      "text/plain": [
       "<Axes: xlabel='sentiment'>"
      ]
     },
     "execution_count": 4,
     "metadata": {},
     "output_type": "execute_result"
    },
    {
     "data": {
      "image/png": "[encoded data removed]",
      "text/plain": [
       "<Figure size 640x480 with 1 Axes>"
      ]
     },
     "metadata": {},
     "output_type": "display_data"
    }
   ],
   "source": [
    "print(df.value_counts('sentiment'))\n",
    "df.value_counts('sentiment').plot(kind='bar')"
   ]
  },
  {
   "cell_type": "code",
   "execution_count": 5,
   "metadata": {
    "execution": {
     "iopub.execute_input": "2023-08-31T09:02:37.035984Z",
     "iopub.status.busy": "2023-08-31T09:02:37.035548Z",
     "iopub.status.idle": "2023-08-31T09:02:37.044610Z",
     "shell.execute_reply": "2023-08-31T09:02:37.043237Z",
     "shell.execute_reply.started": "2023-08-31T09:02:37.035950Z"
    }
   },
   "outputs": [],
   "source": [
    "### Preprocessing Function\n",
    "ps = PorterStemmer()\n",
    "corpus = set()\n",
    "def preprocess(text):\n",
    "    \n",
    "    ## removing unwanted space\n",
    "    text = text.strip()\n",
    "    \n",
    "    ## removing html tags \n",
    "    text = re.sub(\"<[^>]*>\", \"\",text)\n",
    "    \n",
    "    ## removing any numerical values\n",
    "    text = re.sub('[^a-zA-Z]', ' ',text)\n",
    "    \n",
    "    ## lower case the word\n",
    "    text = text.lower()\n",
    "    \n",
    "    text = text.split()\n",
    "    \n",
    "    ## stemming the word for sentiment analysis do not remove the stop word\n",
    "    text = [ps.stem(word) for word in text]\n",
    "    text = ' '.join(text)\n",
    "    return text"
   ]
  },
  {
   "cell_type": "code",
   "execution_count": 6,
   "metadata": {
    "execution": {
     "iopub.execute_input": "2023-08-31T09:02:41.251190Z",
     "iopub.status.busy": "2023-08-31T09:02:41.250753Z",
     "iopub.status.idle": "2023-08-31T09:08:51.002260Z",
     "shell.execute_reply": "2023-08-31T09:08:51.001191Z",
     "shell.execute_reply.started": "2023-08-31T09:02:41.251159Z"
    }
   },
   "outputs": [],
   "source": [
    "df['Preprocessed_review'] = df.review.apply(preprocess)"
   ]
  },
  {
   "cell_type": "code",
   "execution_count": 7,
   "metadata": {
    "execution": {
     "iopub.execute_input": "2023-08-31T09:09:02.741196Z",
     "iopub.status.busy": "2023-08-31T09:09:02.740798Z",
     "iopub.status.idle": "2023-08-31T09:09:02.764303Z",
     "shell.execute_reply": "2023-08-31T09:09:02.763203Z",
     "shell.execute_reply.started": "2023-08-31T09:09:02.741166Z"
    }
   },
   "outputs": [
    {
     "data": {
      "text/html": [
       "<div>\n",
       "<style scoped>\n",
       "    .dataframe tbody tr th:only-of-type {\n",
       "        vertical-align: middle;\n",
       "    }\n",
       "\n",
       "    .dataframe tbody tr th {\n",
       "        vertical-align: top;\n",
       "    }\n",
       "\n",
       "    .dataframe thead th {\n",
       "        text-align: right;\n",
       "    }\n",
       "</style>\n",
       "<table border=\"1\" class=\"dataframe\">\n",
       "  <thead>\n",
       "    <tr style=\"text-align: right;\">\n",
       "      <th></th>\n",
       "      <th>review</th>\n",
       "      <th>sentiment</th>\n",
       "      <th>Preprocessed_review</th>\n",
       "      <th>sentiment_numeric</th>\n",
       "    </tr>\n",
       "  </thead>\n",
       "  <tbody>\n",
       "    <tr>\n",
       "      <th>0</th>\n",
       "      <td>One of the other reviewers has mentioned that ...</td>\n",
       "      <td>positive</td>\n",
       "      <td>one of the other review ha mention that after ...</td>\n",
       "      <td>1</td>\n",
       "    </tr>\n",
       "    <tr>\n",
       "      <th>1</th>\n",
       "      <td>A wonderful little production. &lt;br /&gt;&lt;br /&gt;The...</td>\n",
       "      <td>positive</td>\n",
       "      <td>a wonder littl product the film techniqu is ve...</td>\n",
       "      <td>1</td>\n",
       "    </tr>\n",
       "    <tr>\n",
       "      <th>2</th>\n",
       "      <td>I thought this was a wonderful way to spend ti...</td>\n",
       "      <td>positive</td>\n",
       "      <td>i thought thi wa a wonder way to spend time on...</td>\n",
       "      <td>1</td>\n",
       "    </tr>\n",
       "    <tr>\n",
       "      <th>3</th>\n",
       "      <td>Basically there's a family where a little boy ...</td>\n",
       "      <td>negative</td>\n",
       "      <td>basic there s a famili where a littl boy jake ...</td>\n",
       "      <td>0</td>\n",
       "    </tr>\n",
       "    <tr>\n",
       "      <th>4</th>\n",
       "      <td>Petter Mattei's \"Love in the Time of Money\" is...</td>\n",
       "      <td>positive</td>\n",
       "      <td>petter mattei s love in the time of money is a...</td>\n",
       "      <td>1</td>\n",
       "    </tr>\n",
       "  </tbody>\n",
       "</table>\n",
       "</div>"
      ],
      "text/plain": [
       "                                              review sentiment  \\\n",
       "0  One of the other reviewers has mentioned that ...  positive   \n",
       "1  A wonderful little production. <br /><br />The...  positive   \n",
       "2  I thought this was a wonderful way to spend ti...  positive   \n",
       "3  Basically there's a family where a little boy ...  negative   \n",
       "4  Petter Mattei's \"Love in the Time of Money\" is...  positive   \n",
       "\n",
       "                                 Preprocessed_review  sentiment_numeric  \n",
       "0  one of the other review ha mention that after ...                  1  \n",
       "1  a wonder littl product the film techniqu is ve...                  1  \n",
       "2  i thought thi wa a wonder way to spend time on...                  1  \n",
       "3  basic there s a famili where a littl boy jake ...                  0  \n",
       "4  petter mattei s love in the time of money is a...                  1  "
      ]
     },
     "execution_count": 7,
     "metadata": {},
     "output_type": "execute_result"
    }
   ],
   "source": [
    "map_dict = {'positive':1,\n",
    "           'negative':0}\n",
    "df['sentiment_numeric'] = df.sentiment.map(map_dict)\n",
    "df.head()"
   ]
  },
  {
   "cell_type": "code",
   "execution_count": 8,
   "metadata": {
    "execution": {
     "iopub.execute_input": "2023-08-31T09:09:08.681226Z",
     "iopub.status.busy": "2023-08-31T09:09:08.680833Z",
     "iopub.status.idle": "2023-08-31T09:09:08.719855Z",
     "shell.execute_reply": "2023-08-31T09:09:08.718667Z",
     "shell.execute_reply.started": "2023-08-31T09:09:08.681196Z"
    }
   },
   "outputs": [],
   "source": [
    "### performing train test split\n",
    "from sklearn.model_selection import train_test_split\n",
    "x_train,x_test,y_train,y_test = train_test_split(df.Preprocessed_review\t,\n",
    "                                                 df.sentiment_numeric,\n",
    "                                                 test_size=0.2,\n",
    "                                                 random_state=42,\n",
    "                                                 stratify=df.sentiment_numeric)"
   ]
  },
  {
   "cell_type": "code",
   "execution_count": 9,
   "metadata": {
    "execution": {
     "iopub.execute_input": "2023-08-31T09:09:10.652142Z",
     "iopub.status.busy": "2023-08-31T09:09:10.651737Z",
     "iopub.status.idle": "2023-08-31T09:09:10.660622Z",
     "shell.execute_reply": "2023-08-31T09:09:10.659020Z",
     "shell.execute_reply.started": "2023-08-31T09:09:10.652112Z"
    }
   },
   "outputs": [
    {
     "data": {
      "text/plain": [
       "((40000,), (10000,))"
      ]
     },
     "execution_count": 9,
     "metadata": {},
     "output_type": "execute_result"
    }
   ],
   "source": [
    "x_train.shape,x_test.shape"
   ]
  },
  {
   "cell_type": "code",
   "execution_count": 10,
   "metadata": {
    "execution": {
     "iopub.execute_input": "2023-08-31T09:09:40.088694Z",
     "iopub.status.busy": "2023-08-31T09:09:40.087644Z",
     "iopub.status.idle": "2023-08-31T09:09:54.222144Z",
     "shell.execute_reply": "2023-08-31T09:09:54.220951Z",
     "shell.execute_reply.started": "2023-08-31T09:09:40.088655Z"
    }
   },
   "outputs": [
    {
     "name": "stdout",
     "output_type": "stream",
     "text": [
      "multi naive bayes precision: 0.8742151527835914\n",
      "multi naive bayes accuracy: 0.8576\n"
     ]
    }
   ],
   "source": [
    "multi_nb = Pipeline([\n",
    "     ('tfidf',TfidfVectorizer()),        \n",
    "     ('Multi_NB', MultinomialNB())         \n",
    "])\n",
    "\n",
    "multi_nb.fit(x_train, y_train)\n",
    "\n",
    "\n",
    "y_pred_mnb = multi_nb.predict(x_test)\n",
    "\n",
    "print(f'multi naive bayes precision: {precision_score(y_test,y_pred_mnb)}')\n",
    "print(f'multi naive bayes accuracy: {accuracy_score(y_test,y_pred_mnb)}')"
   ]
  },
  {
   "cell_type": "code",
   "execution_count": 11,
   "metadata": {
    "execution": {
     "iopub.execute_input": "2023-08-31T09:11:32.216135Z",
     "iopub.status.busy": "2023-08-31T09:11:32.215738Z",
     "iopub.status.idle": "2023-08-31T09:11:32.573948Z",
     "shell.execute_reply": "2023-08-31T09:11:32.572815Z",
     "shell.execute_reply.started": "2023-08-31T09:11:32.216105Z"
    }
   },
   "outputs": [
    {
     "data": {
      "text/plain": [
       "Text(95.72222222222221, 0.5, 'Truth')"
      ]
     },
     "execution_count": 11,
     "metadata": {},
     "output_type": "execute_result"
    },
    {
     "data": {
      "image/png": "[encoded data removed]",
      "text/plain": [
       "<Figure size 1000x700 with 2 Axes>"
      ]
     },
     "metadata": {},
     "output_type": "display_data"
    }
   ],
   "source": [
    "confusion_mat = confusion_matrix(y_test, y_pred_mnb)\n",
    "\n",
    "\n",
    "plt.figure(figsize = (10,7))\n",
    "sn.heatmap(confusion_mat, annot=True, fmt='d')\n",
    "plt.xlabel('Prediction')\n",
    "plt.ylabel('Truth')"
   ]
  },
  {
   "cell_type": "code",
   "execution_count": 12,
   "metadata": {
    "execution": {
     "iopub.execute_input": "2023-08-31T09:12:00.387556Z",
     "iopub.status.busy": "2023-08-31T09:12:00.387175Z",
     "iopub.status.idle": "2023-08-31T09:14:45.398061Z",
     "shell.execute_reply": "2023-08-31T09:14:45.397031Z",
     "shell.execute_reply.started": "2023-08-31T09:12:00.387526Z"
    }
   },
   "outputs": [
    {
     "name": "stdout",
     "output_type": "stream",
     "text": [
      "RandomForest Classifier precision: 0.8499696294796517\n",
      "RandomForest Classifier accuracy: 0.8457\n"
     ]
    }
   ],
   "source": [
    "rfc = Pipeline([\n",
    "     ('tfidf',TfidfVectorizer()),        \n",
    "     ('rf', RandomForestClassifier(random_state=42))         \n",
    "])\n",
    "\n",
    "rfc.fit(x_train, y_train)\n",
    "\n",
    "\n",
    "y_pred_rfc = rfc.predict(x_test)\n",
    "\n",
    "print(f'RandomForest Classifier precision: {precision_score(y_test,y_pred_rfc)}')\n",
    "print(f'RandomForest Classifier accuracy: {accuracy_score(y_test,y_pred_rfc)}')"
   ]
  },
  {
   "cell_type": "code",
   "execution_count": 13,
   "metadata": {
    "execution": {
     "iopub.execute_input": "2023-08-31T09:15:35.308711Z",
     "iopub.status.busy": "2023-08-31T09:15:35.308343Z",
     "iopub.status.idle": "2023-08-31T09:15:35.631654Z",
     "shell.execute_reply": "2023-08-31T09:15:35.630345Z",
     "shell.execute_reply.started": "2023-08-31T09:15:35.308682Z"
    }
   },
   "outputs": [
    {
     "data": {
      "text/plain": [
       "Text(95.72222222222221, 0.5, 'Truth')"
      ]
     },
     "execution_count": 13,
     "metadata": {},
     "output_type": "execute_result"
    },
    {
     "data": {
      "image/png": "[encoded data removed]",
      "text/plain": [
       "<Figure size 1000x700 with 2 Axes>"
      ]
     },
     "metadata": {},
     "output_type": "display_data"
    }
   ],
   "source": [
    "confusion_mat = confusion_matrix(y_test, y_pred_rfc)\n",
    "\n",
    "\n",
    "plt.figure(figsize = (10,7))\n",
    "sn.heatmap(confusion_mat, annot=True, fmt='d')\n",
    "plt.xlabel('Prediction')\n",
    "plt.ylabel('Truth')"
   ]
  },
  {
   "cell_type": "code",
   "execution_count": 14,
   "metadata": {
    "execution": {
     "iopub.execute_input": "2023-08-31T09:15:52.797940Z",
     "iopub.status.busy": "2023-08-31T09:15:52.797507Z",
     "iopub.status.idle": "2023-08-31T09:16:17.032400Z",
     "shell.execute_reply": "2023-08-31T09:16:17.031192Z",
     "shell.execute_reply.started": "2023-08-31T09:15:52.797907Z"
    }
   },
   "outputs": [
    {
     "name": "stderr",
     "output_type": "stream",
     "text": [
      "C:\\Users\\ARINDAM DAS\\anaconda3\\Lib\\site-packages\\sklearn\\linear_model\\_logistic.py:460: ConvergenceWarning: lbfgs failed to converge (status=1):\n",
      "STOP: TOTAL NO. of ITERATIONS REACHED LIMIT.\n",
      "\n",
      "Increase the number of iterations (max_iter) or scale the data as shown in:\n",
      "    https://scikit-learn.org/stable/modules/preprocessing.html\n",
      "Please also refer to the documentation for alternative solver options:\n",
      "    https://scikit-learn.org/stable/modules/linear_model.html#logistic-regression\n",
      "  n_iter_i = _check_optimize_result(\n"
     ]
    },
    {
     "name": "stdout",
     "output_type": "stream",
     "text": [
      "Logistic Regression precision: 0.8903785488958991\n",
      "Logistic Regression accuracy: 0.896\n"
     ]
    }
   ],
   "source": [
    "lr = Pipeline([\n",
    "     ('tfidf',TfidfVectorizer()),        \n",
    "     ('log_reg', LogisticRegression())         \n",
    "])\n",
    "\n",
    "lr.fit(x_train, y_train)\n",
    "\n",
    "\n",
    "y_pred_lr = lr.predict(x_test)\n",
    "\n",
    "print(f'Logistic Regression precision: {precision_score(y_test,y_pred_lr)}')\n",
    "print(f'Logistic Regression accuracy: {accuracy_score(y_test,y_pred_lr)}')"
   ]
  },
  {
   "cell_type": "code",
   "execution_count": 15,
   "metadata": {
    "execution": {
     "iopub.execute_input": "2023-08-31T09:17:07.053675Z",
     "iopub.status.busy": "2023-08-31T09:17:07.053287Z",
     "iopub.status.idle": "2023-08-31T09:17:07.430673Z",
     "shell.execute_reply": "2023-08-31T09:17:07.429463Z",
     "shell.execute_reply.started": "2023-08-31T09:17:07.053645Z"
    }
   },
   "outputs": [
    {
     "data": {
      "text/plain": [
       "Text(95.72222222222221, 0.5, 'Truth')"
      ]
     },
     "execution_count": 15,
     "metadata": {},
     "output_type": "execute_result"
    },
    {
     "data": {
      "image/png": "[encoded data removed]",
      "text/plain": [
       "<Figure size 1000x700 with 2 Axes>"
      ]
     },
     "metadata": {},
     "output_type": "display_data"
    }
   ],
   "source": [
    "confusion_mat = confusion_matrix(y_test, y_pred_lr)\n",
    "\n",
    "\n",
    "plt.figure(figsize = (10,7))\n",
    "sn.heatmap(confusion_mat, annot=True, fmt='d')\n",
    "plt.xlabel('Prediction')\n",
    "plt.ylabel('Truth')"
   ]
  },
  {
   "cell_type": "code",
   "execution_count": 16,
   "metadata": {
    "execution": {
     "iopub.execute_input": "2023-08-31T09:30:16.621694Z",
     "iopub.status.busy": "2023-08-31T09:30:16.620739Z",
     "iopub.status.idle": "2023-08-31T09:30:16.659313Z",
     "shell.execute_reply": "2023-08-31T09:30:16.657839Z",
     "shell.execute_reply.started": "2023-08-31T09:30:16.621649Z"
    }
   },
   "outputs": [
    {
     "data": {
      "text/html": [
       "<div>\n",
       "<style scoped>\n",
       "    .dataframe tbody tr th:only-of-type {\n",
       "        vertical-align: middle;\n",
       "    }\n",
       "\n",
       "    .dataframe tbody tr th {\n",
       "        vertical-align: top;\n",
       "    }\n",
       "\n",
       "    .dataframe thead th {\n",
       "        text-align: right;\n",
       "    }\n",
       "</style>\n",
       "<table border=\"1\" class=\"dataframe\">\n",
       "  <thead>\n",
       "    <tr style=\"text-align: right;\">\n",
       "      <th></th>\n",
       "      <th>model</th>\n",
       "      <th>Precision</th>\n",
       "      <th>Accuracy</th>\n",
       "    </tr>\n",
       "  </thead>\n",
       "  <tbody>\n",
       "    <tr>\n",
       "      <th>0</th>\n",
       "      <td>Random Forest</td>\n",
       "      <td>0.849970</td>\n",
       "      <td>0.8457</td>\n",
       "    </tr>\n",
       "    <tr>\n",
       "      <th>1</th>\n",
       "      <td>Multi Naive Bayes</td>\n",
       "      <td>0.874215</td>\n",
       "      <td>0.8576</td>\n",
       "    </tr>\n",
       "    <tr>\n",
       "      <th>2</th>\n",
       "      <td>Logistic Regression</td>\n",
       "      <td>0.890379</td>\n",
       "      <td>0.8960</td>\n",
       "    </tr>\n",
       "  </tbody>\n",
       "</table>\n",
       "</div>"
      ],
      "text/plain": [
       "                 model  Precision  Accuracy\n",
       "0        Random Forest   0.849970    0.8457\n",
       "1    Multi Naive Bayes   0.874215    0.8576\n",
       "2  Logistic Regression   0.890379    0.8960"
      ]
     },
     "execution_count": 16,
     "metadata": {},
     "output_type": "execute_result"
    }
   ],
   "source": [
    "report_df = pd.DataFrame({'model':['Random Forest', 'Multi Naive Bayes','Logistic Regression'],\n",
    "                          'Precision': [precision_score(y_test,y_pred_rfc),precision_score(y_test,y_pred_mnb),precision_score(y_test,y_pred_lr)],\n",
    "                          'Accuracy':[accuracy_score(y_test,y_pred_rfc),accuracy_score(y_test,y_pred_mnb),accuracy_score(y_test,y_pred_lr)]})\n",
    "report_df"
   ]
  },
  {
   "cell_type": "markdown",
   "metadata": {},
   "source": [
    "**From this it is clear that Logistic Regression Classify the sentiment with good accuracy and precision.**"
   ]
  }
 ],
 "metadata": {
  "kernelspec": {
   "display_name": "Python 3 (ipykernel)",
   "language": "python",
   "name": "python3"
  },
  "language_info": {
   "codemirror_mode": {
    "name": "ipython",
    "version": 3
   },
   "file_extension": ".py",
   "mimetype": "text/x-python",
   "name": "python",
   "nbconvert_exporter": "python",
   "pygments_lexer": "ipython3",
   "version": "3.11.4"
  }
 },
 "nbformat": 4,
 "nbformat_minor": 4
}
